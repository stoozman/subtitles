{
 "cells": [
  {
   "cell_type": "code",
   "execution_count": 2,
   "id": "58028e26",
   "metadata": {},
   "outputs": [],
   "source": [
    "import pysrt\n",
    "import pandas as pd\n",
    "import numpy as np\n",
    "import os\n",
    "import nltk\n",
    "import joblib\n",
    "from sklearn.feature_extraction.text import CountVectorizer, TfidfVectorizer\n",
    "from sklearn.model_selection import train_test_split, GridSearchCV\n",
    "from sklearn.naive_bayes import MultinomialNB\n",
    "from sklearn.metrics import accuracy_score\n",
    "from sklearn.ensemble import RandomForestClassifier, GradientBoostingClassifier\n",
    "from sklearn.linear_model import LinearRegression, LogisticRegression\n",
    "from sklearn.neighbors import KNeighborsClassifier\n",
    "from sklearn.svm import SVC\n",
    "from sklearn.tree import DecisionTreeClassifier\n",
    "from sklearn.neural_network import MLPClassifier\n",
    "from sklearn.preprocessing import LabelEncoder, OneHotEncoder, StandardScaler\n",
    "from sklearn.discriminant_analysis import LinearDiscriminantAnalysis\n",
    "from xgboost import XGBClassifier\n",
    "from lightgbm import LGBMClassifier\n",
    "from catboost import CatBoostClassifier\n",
    "from sklearn.ensemble import AdaBoostClassifier\n",
    "from sklearn.compose import make_column_transformer\n",
    "from scipy.sparse import hstack, csr_matrix"
   ]
  },
  {
   "cell_type": "code",
   "execution_count": 4,
   "id": "f692a557",
   "metadata": {},
   "outputs": [
    {
     "name": "stdout",
     "output_type": "stream",
     "text": [
      "File not found: C:/Users/AB54/Desktop/Data/subtitles/Subtitles_all/Subtitles/The Secret Life of Pets.en.srt\n",
      "File not found: C:/Users/AB54/Desktop/Data/subtitles/Subtitles_all/Subtitles/Up (2009).srt\n",
      "File not found: C:/Users/AB54/Desktop/Data/subtitles/Subtitles_all/Subtitles/Glass Onion.srt\n",
      "File not found: C:/Users/AB54/Desktop/Data/subtitles/Subtitles_all/Subtitles/Matilda(2022).srt\n",
      "File not found: C:/Users/AB54/Desktop/Data/subtitles/Subtitles_all/Subtitles/Bullet train.srt\n",
      "File not found: C:/Users/AB54/Desktop/Data/subtitles/Subtitles_all/Subtitles/Thor: love and thunder.srt\n",
      "File not found: C:/Users/AB54/Desktop/Data/subtitles/Subtitles_all/Subtitles/Lightyear.srt\n",
      "File not found: C:/Users/AB54/Desktop/Data/subtitles/Subtitles_all/Subtitles/The Grinch.srt\n"
     ]
    },
    {
     "data": {
      "text/plain": [
       "['model9.pkl']"
      ]
     },
     "execution_count": 4,
     "metadata": {},
     "output_type": "execute_result"
    }
   ],
   "source": [
    "movies_df = pd.read_excel('https://github.com/stoozman/subtitles/raw/91e764b0e0fd2876c682fabc3b3b6ccaa07c11fd/movies_labels.xlsx')\n",
    "subtitles_list = []\n",
    "for index, row in movies_df.iterrows():\n",
   "    filename = os.path.join('https://github.com/stoozman/subtitles/raw/f8374a3d9d6ff5c6b960ce614d9b554effd39a2f/Subtitles_all/Subtitles/', row['Movie'] + \".srt\")\n",
    "    if os.path.exists(filename):\n",
    "        subs = pysrt.open(filename, encoding='windows-1252')\n",
    "        text = \"\"\n",
    "        for sub in subs:\n",
    "            text += sub.text + \" \"\n",
    "        subtitles_list.append(text)\n",
    "    else:\n",
    "        print(f\"File not found: {filename}\")\n",
    "        movies_df.drop(index, inplace=True)\n",
    "\n",
    "stemmer = nltk.stem.PorterStemmer()\n",
    "subtitles_stemmed = []\n",
    "for subtitles in subtitles_list:\n",
    "    words = nltk.word_tokenize(subtitles.lower())\n",
    "    stemmed_words = [stemmer.stem(word) for word in words]\n",
    "    subtitles_stemmed.append(' '.join(stemmed_words))\n",
    "\n",
    "y = movies_df['Level']\n",
    "\n",
    "vectorizer = CountVectorizer(stop_words='english')\n",
    "X = vectorizer.fit_transform(subtitles_stemmed)\n",
    "\n",
    "\n",
    "model = GradientBoostingClassifier(n_estimators=50, learning_rate=0.1, max_depth=3)\n",
    "model.fit(X, y)\n",
    "\n",
    "joblib.dump(model, 'model9.pkl')"
   ]
  },
  {
   "cell_type": "code",
   "execution_count": 5,
   "id": "dcf987c9",
   "metadata": {},
   "outputs": [
    {
     "data": {
      "text/plain": [
       "['vectorizer2.pkl']"
      ]
     },
     "execution_count": 5,
     "metadata": {},
     "output_type": "execute_result"
    }
   ],
   "source": [
    "# Сохранение векторайзера\n",
    "joblib.dump(vectorizer, 'vectorizer2.pkl')"
   ]
  }
 ],
 "metadata": {
  "kernelspec": {
   "display_name": "Python 3 (ipykernel)",
   "language": "python",
   "name": "python3"
  },
  "language_info": {
   "codemirror_mode": {
    "name": "ipython",
    "version": 3
   },
   "file_extension": ".py",
   "mimetype": "text/x-python",
   "name": "python",
   "nbconvert_exporter": "python",
   "pygments_lexer": "ipython3",
   "version": "3.9.13"
  }
 },
 "nbformat": 4,
 "nbformat_minor": 5
}
